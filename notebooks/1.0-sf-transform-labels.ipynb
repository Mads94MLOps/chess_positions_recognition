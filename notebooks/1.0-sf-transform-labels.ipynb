{
 "cells": [
  {
   "cell_type": "code",
   "execution_count": 18,
   "metadata": {},
   "outputs": [],
   "source": [
    "FILENAME = '1B1B1K2-3p1N2-6k1-R7-5P2-4q3-7R-1B6.jpeg'"
   ]
  },
  {
   "cell_type": "code",
   "execution_count": 22,
   "metadata": {},
   "outputs": [
    {
     "name": "stdout",
     "output_type": "stream",
     "text": [
      "[0, 9, 0, 9, 0, 11, 0, 0, 0, 0, 0, 6, 0, 8, 0, 0, 0, 0, 0, 0, 0, 0, 5, 0, 7, 0, 0, 0, 0, 0, 0, 0, 0, 0, 0, 0, 0, 12, 0, 0, 0, 0, 0, 0, 4, 0, 0, 0, 0, 0, 0, 0, 0, 0, 0, 7, 0, 9, 0, 0, 0, 0, 0, 0]\n"
     ]
    }
   ],
   "source": [
    "import re\n",
    "\n",
    "class_dict = {'e': 0, 'E': 0, 'r': 1, 'n': 2, 'b': 3, 'q': 4, 'k': 5, 'p': 6, 'R': 7, 'N': 8, 'B': 9, 'Q': 10, 'K': 11, 'P': 12}\n",
    "\n",
    "def transform_label(orig_label):\n",
    "    transformed_label = []\n",
    "    ranks = orig_label.split('-')\n",
    "    for rank in ranks:\n",
    "        for letter in rank:\n",
    "            if letter in list('0123456789'):\n",
    "                transformed_label.extend(list(int(letter)*'E'))\n",
    "            else:\n",
    "                transformed_label.append(letter)\n",
    "    transformed_label = list(map(lambda l: class_dict[l], transformed_label))\n",
    "    return transformed_label\n",
    "\n",
    "        \n",
    "transformed_label = transform_label(FILENAME.split('.')[0])\n",
    "print(transformed_label)\n",
    "\n"
   ]
  }
 ],
 "metadata": {
  "interpreter": {
   "hash": "916dbcbb3f70747c44a77c7bcd40155683ae19c65e1c03b4aa3499c5328201f1"
  },
  "kernelspec": {
   "display_name": "Python 3.8.10 64-bit",
   "language": "python",
   "name": "python3"
  },
  "language_info": {
   "codemirror_mode": {
    "name": "ipython",
    "version": 3
   },
   "file_extension": ".py",
   "mimetype": "text/x-python",
   "name": "python",
   "nbconvert_exporter": "python",
   "pygments_lexer": "ipython3",
   "version": "3.9.7"
  },
  "orig_nbformat": 4
 },
 "nbformat": 4,
 "nbformat_minor": 2
}
