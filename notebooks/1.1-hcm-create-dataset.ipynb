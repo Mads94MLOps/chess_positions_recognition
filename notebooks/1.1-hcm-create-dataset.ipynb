{
 "cells": [
  {
   "cell_type": "code",
   "execution_count": 8,
   "metadata": {},
   "outputs": [],
   "source": [
    "import torch\n",
    "import matplotlib.pyplot as plt\n",
    "import numpy as np\n",
    "from PIL import Image\n",
    "import matplotlib.pyplot as plt\n",
    "from torch import nn, optim\n",
    "from keras.callbacks import TensorBoard\n",
    "from torch.utils.data import TensorDataset\n",
    "import torchvision.transforms as transforms\n",
    "from typing import Callable, Tuple, Union, Optional, List\n",
    "from torchvision.datasets import ImageFolder\n",
    "\n",
    "data_dir = '../data'\n",
    "train_files = os.listdir(f'{data_dir}/raw/train')\n",
    "test_files = os.listdir(f'{data_dir}/raw/test')"
   ]
  },
  {
   "cell_type": "code",
   "execution_count": 3,
   "metadata": {},
   "outputs": [],
   "source": [
    "def crop(image):\n",
    "    parts = []\n",
    "    for r in range(0,image.shape[0],50):\n",
    "        for c in range(0,image.shape[1],50):\n",
    "            parts.append(image[r:r+50, c:c+50,:])\n",
    "    return parts"
   ]
  },
  {
   "cell_type": "code",
   "execution_count": 4,
   "metadata": {},
   "outputs": [],
   "source": [
    "def transform_label(filename: str) -> List[str]:\n",
    "    orig_label = filename.split('.')[0]\n",
    "    transformed_label = []\n",
    "    ranks = orig_label.split('-')\n",
    "    for rank in ranks:\n",
    "        for letter in rank:\n",
    "            if letter in list('0123456789'):\n",
    "                transformed_label.extend(list(int(letter)*'E'))\n",
    "            else:\n",
    "                transformed_label.append(letter)\n",
    "    return transformed_label"
   ]
  },
  {
   "cell_type": "code",
   "execution_count": 11,
   "metadata": {},
   "outputs": [],
   "source": [
    "def make_dataset(files: List[str], dir: str) -> None:\n",
    "    for idx, file in enumerate(files):\n",
    "        folder_names = transform_label(file)\n",
    "        for name in folder_names:\n",
    "            if not name.isupper():\n",
    "                os.makedirs(f'{data_dir}/{dir}/b_{name}', exist_ok=True)  \n",
    "            else:\n",
    "                os.makedirs(f'{data_dir}/{dir}/w_{name}', exist_ok=True)  \n",
    "        orig_image = Image.open(f'{data_dir}/raw/test/{file}')\n",
    "        orig_image = np.array(orig_image)\n",
    "        cropped_images = crop(orig_image)\n",
    "        for i in range(len(folder_names)):\n",
    "            image = Image.fromarray(cropped_images[i])\n",
    "            if not folder_names[i].isupper():\n",
    "                image.save(f'{dir}/b_{folder_names[i]}/{idx}-{i}.jpeg')  \n",
    "            else:\n",
    "                image.save(f'{dir}/w_{folder_names[i]}/{idx}-{i}.jpeg')"
   ]
  },
  {
   "cell_type": "code",
   "execution_count": 12,
   "metadata": {},
   "outputs": [],
   "source": [
    "train_files = os.listdir(f'{data_dir}/raw/test')\n",
    "\n",
    "processed_dir = f'{data_dir}/processed/test2'\n",
    "\n",
    "somefiles = train_files[:500]\n",
    "\n",
    "make_dataset(somefiles, processed_dir)"
   ]
  },
  {
   "cell_type": "code",
   "execution_count": null,
   "metadata": {},
   "outputs": [],
   "source": []
  }
 ],
 "metadata": {
  "interpreter": {
   "hash": "5e6c4ce725f74e7e2d791152d1c49900eadd59140924e72506b54ef17461f95d"
  },
  "kernelspec": {
   "display_name": "Python 3.9.7 64-bit ('my_env': conda)",
   "language": "python",
   "name": "python3"
  },
  "language_info": {
   "codemirror_mode": {
    "name": "ipython",
    "version": 3
   },
   "file_extension": ".py",
   "mimetype": "text/x-python",
   "name": "python",
   "nbconvert_exporter": "python",
   "pygments_lexer": "ipython3",
   "version": "3.9.7"
  },
  "orig_nbformat": 4
 },
 "nbformat": 4,
 "nbformat_minor": 2
}
